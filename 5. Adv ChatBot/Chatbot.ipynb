{
 "cells": [
  {
   "cell_type": "code",
   "execution_count": 13,
   "id": "0cc6e567",
   "metadata": {},
   "outputs": [],
   "source": [
    "from langgraph.graph import StateGraph, START, END\n",
    "from typing import TypedDict, Annotated\n",
    "from langchain_core.messages import BaseMessage, HumanMessage\n",
    "from langchain_groq import ChatGroq\n",
    "from dotenv import load_dotenv\n",
    "import os\n",
    "from langgraph.checkpoint.memory import MemorySaver # memory on langgraph to save in ram \n",
    "load_dotenv()\n",
    "\n",
    "key = os.getenv(\"GROQ_API_KEY\")"
   ]
  },
  {
   "cell_type": "code",
   "execution_count": 14,
   "id": "09d740c2",
   "metadata": {},
   "outputs": [
    {
     "data": {
      "text/plain": [
       "AIMessage(content='Hello. How can I help you today?', additional_kwargs={}, response_metadata={'token_usage': {'completion_tokens': 10, 'prompt_tokens': 36, 'total_tokens': 46, 'completion_time': 0.032604821, 'prompt_time': 0.001742288, 'queue_time': 0.051401137, 'total_time': 0.034347109}, 'model_name': 'llama-3.3-70b-versatile', 'system_fingerprint': 'fp_3f3b593e33', 'service_tier': 'on_demand', 'finish_reason': 'stop', 'logprobs': None}, id='run--65467ecb-15e5-455f-a28c-0530ff45a6b3-0', usage_metadata={'input_tokens': 36, 'output_tokens': 10, 'total_tokens': 46})"
      ]
     },
     "execution_count": 14,
     "metadata": {},
     "output_type": "execute_result"
    }
   ],
   "source": [
    "llm = ChatGroq(model=\"llama-3.3-70b-versatile\", api_key=key)\n",
    "llm.invoke(\"hello\")"
   ]
  },
  {
   "cell_type": "code",
   "execution_count": null,
   "id": "db8c9dc8",
   "metadata": {},
   "outputs": [],
   "source": [
    "from langgraph.graph.message import add_messages\n",
    "class ChatState(TypedDict):\n",
    "    messages : Annotated[list[BaseMessage], add_messages] \n",
    "    # annotated[list[str]] will be good but we will keep basemessage(coz we are talking to llm) so inside this we can have ai system tool message \n",
    "    # we have to add reducer fn, coz in state when we put new value the previous gets replaced but in our case we want to store all the messages\n",
    "    # rather then operator.add we use add_messages (buitin langgraph) it is more optimize to work with base messages"
   ]
  },
  {
   "cell_type": "code",
   "execution_count": 16,
   "id": "c3c42552",
   "metadata": {},
   "outputs": [],
   "source": [
    "def chatnode(state: ChatState):\n",
    "    # take querry from state\n",
    "    mess = state['messages']\n",
    "\n",
    "    #send to llm\n",
    "    response = llm.invoke(mess)\n",
    "\n",
    "    #response store in state\n",
    "    return {'messages': [response]}"
   ]
  },
  {
   "cell_type": "code",
   "execution_count": 17,
   "id": "1d44e733",
   "metadata": {},
   "outputs": [],
   "source": [
    "checkpointer = MemorySaver() \n",
    "\n",
    "graph = StateGraph(ChatState)\n",
    "graph.add_node(\"chatnode\", chatnode)\n",
    "graph.add_edge(START, 'chatnode')\n",
    "graph.add_edge('chatnode', END)\n",
    "\n",
    "chatbot = graph.compile()"
   ]
  },
  {
   "cell_type": "code",
   "execution_count": 18,
   "id": "b8e796dd",
   "metadata": {},
   "outputs": [
    {
     "data": {
      "image/png": "[encoded data removed]",
      "text/plain": [
       "<langgraph.graph.state.CompiledStateGraph object at 0x000001AFAB1CB010>"
      ]
     },
     "execution_count": 18,
     "metadata": {},
     "output_type": "execute_result"
    }
   ],
   "source": [
    "chatbot"
   ]
  },
  {
   "cell_type": "code",
   "execution_count": 19,
   "id": "da79367c",
   "metadata": {},
   "outputs": [
    {
     "data": {
      "text/plain": [
       "AIMessage(content='Hello. I\\'m an artificial intelligence model known as Llama. Llama stands for \"Large Language Model Meta AI.\"', additional_kwargs={}, response_metadata={'token_usage': {'completion_tokens': 25, 'prompt_tokens': 40, 'total_tokens': 65, 'completion_time': 0.043002691, 'prompt_time': 0.001939226, 'queue_time': 0.051202184, 'total_time': 0.044941917}, 'model_name': 'llama-3.3-70b-versatile', 'system_fingerprint': 'fp_3f3b593e33', 'service_tier': 'on_demand', 'finish_reason': 'stop', 'logprobs': None}, id='run--7db93d6d-60b1-4fe4-b15c-469ff49c9ed1-0', usage_metadata={'input_tokens': 40, 'output_tokens': 25, 'total_tokens': 65})"
      ]
     },
     "execution_count": 19,
     "metadata": {},
     "output_type": "execute_result"
    }
   ],
   "source": [
    "initial_state = {\n",
    "    'messages': [HumanMessage(content=\"hello who are you?\")]\n",
    "}\n",
    "\n",
    "\n",
    "chatbot.invoke(initial_state)['messages'][-1]"
   ]
  },
  {
   "cell_type": "code",
   "execution_count": null,
   "id": "2e50b990",
   "metadata": {},
   "outputs": [
    {
     "name": "stdout",
     "output_type": "stream",
     "text": [
      "user:  my name is sam, what is your name answer in 10 words\n",
      "ai:  I'm an AI, nice to meet you, Sam, my name.\n",
      "user:  are you men or women\n",
      "ai:  I am a computer program, so I don't have a gender. I'm an artificial intelligence designed to provide information and assist with tasks, but I don't have a physical body or personal identity. I exist solely to help users like you, and I don't have personal characteristics like gender, age, or nationality. I'm here to provide neutral and objective assistance, so please feel free to ask me anything!\n",
      "user:  what is my name\n",
      "ai:  I don't know your name. I'm a large language model, I don't have the ability to know personal information about you, including your name. Each time you interact with me, it's a new conversation and I don't retain any information from previous conversations. If you'd like to share your name with me, I'd be happy to chat with you!\n",
      "user:  exit\n"
     ]
    }
   ],
   "source": [
    "thread_id = '1' # lets say for use 1 shyam\n",
    "\n",
    "\n",
    "\n",
    "# make a fee like chatbot \n",
    "\n",
    "while True:\n",
    "\n",
    "   user_message =  input(\"Type here : \")\n",
    "   print(\"user: \", user_message) \n",
    "\n",
    "   if user_message.strip().lower() in [\"exit\", \"quit\", \"byy\"]:\n",
    "      break\n",
    "   else:\n",
    "\n",
    "      config = {'configurable':{'thread_id': thread_id}} # we will pass this while invoking \n",
    " \n",
    "      response = chatbot.invoke({\"messages\": [HumanMessage(content=user_message)]}, config=config) #this will be ai message\n",
    "      print(\"ai: \", response['messages'][-1].content)   # no past memory in remembered by this chatbot"
   ]
  },
  {
   "cell_type": "markdown",
   "id": "c4f89d8b",
   "metadata": {},
   "source": [
    "in persistance we store the state value when it exists the workflow"
   ]
  },
  {
   "cell_type": "code",
   "execution_count": 21,
   "id": "6d6d0b3a",
   "metadata": {},
   "outputs": [
    {
     "ename": "ValueError",
     "evalue": "No checkpointer set",
     "output_type": "error",
     "traceback": [
      "\u001b[1;31m---------------------------------------------------------------------------\u001b[0m",
      "\u001b[1;31mValueError\u001b[0m                                Traceback (most recent call last)",
      "Cell \u001b[1;32mIn[21], line 1\u001b[0m\n\u001b[1;32m----> 1\u001b[0m \u001b[43mchatbot\u001b[49m\u001b[38;5;241;43m.\u001b[39;49m\u001b[43mget_state\u001b[49m\u001b[43m(\u001b[49m\u001b[43mconfig\u001b[49m\u001b[38;5;241;43m=\u001b[39;49m\u001b[43mconfig\u001b[49m\u001b[43m)\u001b[49m\n",
      "File \u001b[1;32mc:\\Users\\shubu\\Desktop\\Agentic AI\\venv\\lib\\site-packages\\langgraph\\pregel\\__init__.py:1157\u001b[0m, in \u001b[0;36mPregel.get_state\u001b[1;34m(self, config, subgraphs)\u001b[0m\n\u001b[0;32m   1153\u001b[0m checkpointer: BaseCheckpointSaver \u001b[38;5;241m|\u001b[39m \u001b[38;5;28;01mNone\u001b[39;00m \u001b[38;5;241m=\u001b[39m ensure_config(config)[CONF]\u001b[38;5;241m.\u001b[39mget(\n\u001b[0;32m   1154\u001b[0m     CONFIG_KEY_CHECKPOINTER, \u001b[38;5;28mself\u001b[39m\u001b[38;5;241m.\u001b[39mcheckpointer\n\u001b[0;32m   1155\u001b[0m )\n\u001b[0;32m   1156\u001b[0m \u001b[38;5;28;01mif\u001b[39;00m \u001b[38;5;129;01mnot\u001b[39;00m checkpointer:\n\u001b[1;32m-> 1157\u001b[0m     \u001b[38;5;28;01mraise\u001b[39;00m \u001b[38;5;167;01mValueError\u001b[39;00m(\u001b[38;5;124m\"\u001b[39m\u001b[38;5;124mNo checkpointer set\u001b[39m\u001b[38;5;124m\"\u001b[39m)\n\u001b[0;32m   1159\u001b[0m \u001b[38;5;28;01mif\u001b[39;00m (\n\u001b[0;32m   1160\u001b[0m     checkpoint_ns \u001b[38;5;241m:=\u001b[39m config[CONF]\u001b[38;5;241m.\u001b[39mget(CONFIG_KEY_CHECKPOINT_NS, \u001b[38;5;124m\"\u001b[39m\u001b[38;5;124m\"\u001b[39m)\n\u001b[0;32m   1161\u001b[0m ) \u001b[38;5;129;01mand\u001b[39;00m CONFIG_KEY_CHECKPOINTER \u001b[38;5;129;01mnot\u001b[39;00m \u001b[38;5;129;01min\u001b[39;00m config[CONF]:\n\u001b[0;32m   1162\u001b[0m     \u001b[38;5;66;03m# remove task_ids from checkpoint_ns\u001b[39;00m\n\u001b[0;32m   1163\u001b[0m     recast \u001b[38;5;241m=\u001b[39m recast_checkpoint_ns(checkpoint_ns)\n",
      "\u001b[1;31mValueError\u001b[0m: No checkpointer set"
     ]
    }
   ],
   "source": [
    "chatbot.get_state(config=config)"
   ]
  }
 ],
 "metadata": {
  "kernelspec": {
   "display_name": "venv",
   "language": "python",
   "name": "python3"
  },
  "language_info": {
   "codemirror_mode": {
    "name": "ipython",
    "version": 3
   },
   "file_extension": ".py",
   "mimetype": "text/x-python",
   "name": "python",
   "nbconvert_exporter": "python",
   "pygments_lexer": "ipython3",
   "version": "3.10.9"
  }
 },
 "nbformat": 4,
 "nbformat_minor": 5
}
