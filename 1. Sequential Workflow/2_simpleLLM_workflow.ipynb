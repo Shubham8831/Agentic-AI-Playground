{
 "cells": [
  {
   "cell_type": "markdown",
   "id": "980c5367",
   "metadata": {},
   "source": [
    "## Simple LLM Workflow\n",
    "\n",
    "#### que. --> node(llm_qa) --> ans."
   ]
  },
  {
   "cell_type": "code",
   "execution_count": 9,
   "id": "922e057f",
   "metadata": {},
   "outputs": [],
   "source": [
    "from langgraph.graph import StateGraph, START, END\n",
    "from typing import TypedDict\n",
    "from dotenv import load_dotenv\n",
    "from langchain_groq import ChatGroq\n",
    "\n",
    "load_dotenv()\n",
    "\n",
    "import os\n",
    "key = os.getenv(\"GROQ_API_KEY\")"
   ]
  },
  {
   "cell_type": "code",
   "execution_count": 10,
   "id": "d10cfacb",
   "metadata": {},
   "outputs": [
    {
     "data": {
      "text/plain": [
       "AIMessage(content='Hello. How can I assist you today?', additional_kwargs={}, response_metadata={'token_usage': {'completion_tokens': 10, 'prompt_tokens': 36, 'total_tokens': 46, 'completion_time': 0.018977432, 'prompt_time': 0.001517526, 'queue_time': 0.052778724, 'total_time': 0.020494958}, 'model_name': 'llama-3.3-70b-versatile', 'system_fingerprint': 'fp_3f3b593e33', 'service_tier': 'on_demand', 'finish_reason': 'stop', 'logprobs': None}, id='run--c0d6248a-736b-491f-b821-cb6fbbaa6ad4-0', usage_metadata={'input_tokens': 36, 'output_tokens': 10, 'total_tokens': 46})"
      ]
     },
     "execution_count": 10,
     "metadata": {},
     "output_type": "execute_result"
    }
   ],
   "source": [
    "model = ChatGroq(model=\"llama-3.3-70b-versatile\", api_key=key)\n",
    "model.invoke(\"hello\")"
   ]
  },
  {
   "cell_type": "code",
   "execution_count": 11,
   "id": "1048553c",
   "metadata": {},
   "outputs": [],
   "source": [
    "# create a state\n",
    "\n",
    "class llmstate(TypedDict):\n",
    "\n",
    "    que: str\n",
    "    ans: str"
   ]
  },
  {
   "cell_type": "code",
   "execution_count": 25,
   "id": "a5229c58",
   "metadata": {},
   "outputs": [],
   "source": [
    "# fn for the node\n",
    "\n",
    "def llm_qa(state: llmstate) -> llmstate:\n",
    "     \n",
    "    # extract question from the state\n",
    "    question = state[\"que\"]\n",
    "\n",
    "    # form a prompt\n",
    "    prompt = f\"Answer the following question{question}\"\n",
    "\n",
    "    #ask que to llm \n",
    "    answer = model.invoke(prompt)\n",
    "\n",
    "    # updata answer to state\n",
    "    state[\"ans\"] = answer.content\n",
    "\n",
    "    return state\n"
   ]
  },
  {
   "cell_type": "code",
   "execution_count": 26,
   "id": "2224f441",
   "metadata": {},
   "outputs": [],
   "source": [
    "#we will create a graph\n",
    "\n",
    "graph = StateGraph(llmstate)\n",
    "\n",
    "# add node \n",
    "\n",
    "graph.add_node('llm_qa', llm_qa)\n",
    "\n",
    "# define edge\n",
    "graph.add_edge(START, \"llm_qa\")\n",
    "graph.add_edge(\"llm_qa\", END)\n",
    "\n",
    "# compile the graph\n",
    "workflow = graph.compile()"
   ]
  },
  {
   "cell_type": "code",
   "execution_count": 27,
   "id": "261c3874",
   "metadata": {},
   "outputs": [
    {
     "name": "stdout",
     "output_type": "stream",
     "text": [
      "{'que': 'how fas is mars from earth', 'ans': 'The average distance from Earth to Mars is about 225 million kilometers (139.8 million miles). However, the distance between the two planets varies as both Earth and Mars follow elliptical orbits around the Sun.\\n\\nAt their closest, Mars and Earth can be as close as 56 million kilometers (34.8 million miles), which is known as \"opposition\" and occurs every 26 months. This is when Mars is on the opposite side of the Earth from the Sun.\\n\\nAt their farthest, Mars and Earth can be as far as 401 million kilometers (249.2 million miles) apart, which is known as \"conjunction\" and occurs when Mars is on the same side of the Sun as Earth.\\n\\nHere\\'s a rough breakdown of the distances between Earth and Mars:\\n\\n* Closest (opposition): 56 million km (34.8 million miles)\\n* Average: 225 million km (139.8 million miles)\\n* Farthest (conjunction): 401 million km (249.2 million miles)\\n\\nIt\\'s worth noting that the distance between Earth and Mars is constantly changing due to the elliptical shape of their orbits. NASA and other space agencies often take advantage of the closer distances during opposition to launch missions to Mars, as it reduces the travel time and energy required for spacecraft to reach the Red Planet.'}\n"
     ]
    }
   ],
   "source": [
    "#execute the graph\n",
    "\n",
    "initial_state = {\"que\": \"how fas is mars from earth\"}\n",
    "\n",
    "final_state = workflow.invoke(initial_state)\n",
    "\n",
    "print(final_state)"
   ]
  },
  {
   "cell_type": "code",
   "execution_count": 29,
   "id": "7d8e79df",
   "metadata": {},
   "outputs": [
    {
     "name": "stdout",
     "output_type": "stream",
     "text": [
      "The average distance from Earth to Mars is about 225 million kilometers (139.8 million miles). However, the distance between the two planets varies as both Earth and Mars follow elliptical orbits around the Sun.\n",
      "\n",
      "At their closest, Mars and Earth can be as close as 56 million kilometers (34.8 million miles), which is known as \"opposition\" and occurs every 26 months. This is when Mars is on the opposite side of the Earth from the Sun.\n",
      "\n",
      "At their farthest, Mars and Earth can be as far as 401 million kilometers (249.2 million miles) apart, which is known as \"conjunction\" and occurs when Mars is on the same side of the Sun as Earth.\n",
      "\n",
      "Here's a rough breakdown of the distances between Earth and Mars:\n",
      "\n",
      "* Closest (opposition): 56 million km (34.8 million miles)\n",
      "* Average: 225 million km (139.8 million miles)\n",
      "* Farthest (conjunction): 401 million km (249.2 million miles)\n",
      "\n",
      "It's worth noting that the distance between Earth and Mars is constantly changing due to the elliptical shape of their orbits. NASA and other space agencies often take advantage of the closer distances during opposition to launch missions to Mars, as it reduces the travel time and energy required for spacecraft to reach the Red Planet.\n"
     ]
    }
   ],
   "source": [
    "print(final_state[\"ans\"])"
   ]
  }
 ],
 "metadata": {
  "kernelspec": {
   "display_name": "venv",
   "language": "python",
   "name": "python3"
  },
  "language_info": {
   "codemirror_mode": {
    "name": "ipython",
    "version": 3
   },
   "file_extension": ".py",
   "mimetype": "text/x-python",
   "name": "python",
   "nbconvert_exporter": "python",
   "pygments_lexer": "ipython3",
   "version": "3.10.9"
  }
 },
 "nbformat": 4,
 "nbformat_minor": 5
}
