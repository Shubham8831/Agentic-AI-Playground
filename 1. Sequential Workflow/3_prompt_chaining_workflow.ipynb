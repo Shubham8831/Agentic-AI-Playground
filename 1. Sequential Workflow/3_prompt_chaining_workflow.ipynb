{
 "cells": [
  {
   "cell_type": "markdown",
   "id": "aeb66bf8",
   "metadata": {},
   "source": [
    "## Prompt Chaining Workflow\n",
    "\n",
    "- topic -> llm -> generate blog\n",
    "\n",
    "- topic -> llm -> detailed outline -> llm -> generate a blog\n",
    "\n",
    "#### START -> generate_outline -> generate_blog -> END"
   ]
  },
  {
   "cell_type": "code",
   "execution_count": 3,
   "id": "416bcdb8",
   "metadata": {},
   "outputs": [],
   "source": [
    "from langgraph.graph import StateGraph, START, END\n",
    "from langchain_groq import ChatGroq\n",
    "from typing import TypedDict\n",
    "from dotenv import load_dotenv\n",
    "\n",
    "load_dotenv()\n",
    "\n",
    "import os\n",
    "key = os.getenv(\"GROQ_API_KEY\")"
   ]
  },
  {
   "cell_type": "code",
   "execution_count": 4,
   "id": "c1c67e27",
   "metadata": {},
   "outputs": [
    {
     "data": {
      "text/plain": [
       "\"Hello! I'm just a language model, so I don't have feelings or emotions like humans do, but I'm functioning properly and ready to help with any questions or topics you'd like to discuss. How about you? How's your day going so far?\""
      ]
     },
     "execution_count": 4,
     "metadata": {},
     "output_type": "execute_result"
    }
   ],
   "source": [
    "model = ChatGroq(model=\"llama-3.3-70b-versatile\", api_key=key)\n",
    "model.invoke(\"hello how are you\").content"
   ]
  },
  {
   "cell_type": "code",
   "execution_count": 21,
   "id": "3e98e21d",
   "metadata": {},
   "outputs": [],
   "source": [
    "# making state\n",
    "class promptstate(TypedDict):\n",
    "    topic : str\n",
    "    outline : str\n",
    "    content : str\n",
    "    score : str"
   ]
  },
  {
   "cell_type": "code",
   "execution_count": 22,
   "id": "96d80357",
   "metadata": {},
   "outputs": [],
   "source": [
    "# node functions\n",
    "def gen_outline(state: promptstate) -> promptstate:\n",
    "    topic = state[\"topic\"]\n",
    "\n",
    "    prompt = f\"generate a blog outline for the topic {topic}\"\n",
    "\n",
    "    outline = model.invoke(prompt)\n",
    "\n",
    "    state[\"outline\"] = outline.content\n",
    "\n",
    "    return state\n",
    "\n",
    "\n",
    "\n",
    "def gen_blog(state: promptstate) -> promptstate:\n",
    "    outline = state[\"outline\"]\n",
    "    topic = state[\"topic\"]\n",
    "\n",
    "    prompt = f\"generate a blog with the topic {topic} and outline {outline}\"\n",
    "\n",
    "    blog = model.invoke(prompt)\n",
    "\n",
    "    state[\"content\"] = blog.content\n",
    "\n",
    "    return state\n",
    "\n",
    "\n",
    "def evaluate(state: promptstate) -> promptstate:\n",
    "    outline = state[\"outline\"]\n",
    "    blog = state[\"content\"]\n",
    "\n",
    "    prompt = f\"based on the blog outline - {outline} and blog - {blog}. act as blog expert and give a score to the blog out of 10\"\n",
    "\n",
    "    score = model.invoke(prompt)\n",
    "\n",
    "    state[\"score\"] = score.content\n",
    "\n",
    "    return state\n"
   ]
  },
  {
   "cell_type": "code",
   "execution_count": 23,
   "id": "d0686613",
   "metadata": {},
   "outputs": [],
   "source": [
    "#create graph\n",
    "graph = StateGraph(promptstate)\n",
    "\n",
    "#make nodes\n",
    "graph.add_node(\"gen_outline\", gen_outline)\n",
    "graph.add_node(\"gen_blog\", gen_blog)\n",
    "graph.add_node(\"evaluate\", evaluate)\n",
    "\n",
    "#add edges\n",
    "graph.add_edge(START, \"gen_outline\")\n",
    "graph.add_edge(\"gen_outline\", \"gen_blog\")\n",
    "graph.add_edge( \"gen_blog\", \"evaluate\")\n",
    "graph.add_edge(\"evaluate\", END)\n",
    "\n",
    "#compile node and edge\n",
    "workflow = graph.compile()"
   ]
  },
  {
   "cell_type": "code",
   "execution_count": 24,
   "id": "0866879c",
   "metadata": {},
   "outputs": [
    {
     "data": {
      "image/png": "[encoded data removed]",
      "text/plain": [
       "<langgraph.graph.state.CompiledStateGraph object at 0x0000025253EE6140>"
      ]
     },
     "execution_count": 24,
     "metadata": {},
     "output_type": "execute_result"
    }
   ],
   "source": [
    "graph.compile()"
   ]
  },
  {
   "cell_type": "code",
   "execution_count": 25,
   "id": "c8a5d133",
   "metadata": {},
   "outputs": [],
   "source": [
    "initial_state = {\"topic\": \"artificial intelligence future as agentic ai\"}\n",
    "\n",
    "\n",
    "final_state = workflow.invoke(initial_state)"
   ]
  },
  {
   "cell_type": "code",
   "execution_count": 26,
   "id": "e78da957",
   "metadata": {},
   "outputs": [
    {
     "name": "stdout",
     "output_type": "stream",
     "text": [
      "**The Future of Artificial Intelligence: Embracing Agentic AI**\n",
      "\n",
      "Artificial Intelligence (AI) has undergone significant transformations since its inception, evolving from simple rule-based systems to complex machine learning algorithms. As AI continues to advance, a new paradigm is emerging: Agentic AI. This revolutionary approach enables machines to make decisions, take actions, and interact with humans in more sophisticated ways, poised to play a significant role in shaping the future of AI. In this blog, we will explore the concept of Agentic AI, its benefits, challenges, and future applications, as well as the ethical considerations and implications of this emerging technology.\n",
      "\n",
      "**What is Agentic AI?**\n",
      "\n",
      "Agentic AI refers to a type of AI that possesses autonomy, agency, and decision-making capabilities, allowing it to interact with its environment and make decisions based on its own goals and objectives. Unlike traditional AI approaches, such as rule-based systems and machine learning, Agentic AI is capable of self-directed behavior, enabling it to adapt to new situations and learn from experience. Examples of Agentic AI in action include self-driving cars, personal assistants, and intelligent robots, which can navigate complex environments and make decisions in real-time.\n",
      "\n",
      "Agentic AI differs from traditional AI in several key ways:\n",
      "\n",
      "* **Autonomy**: Agentic AI systems can operate independently, making decisions and taking actions without human intervention.\n",
      "* **Agency**: Agentic AI systems have their own goals and objectives, which guide their decision-making and behavior.\n",
      "* **Decision-making**: Agentic AI systems can make decisions based on their own analysis and evaluation of available data.\n",
      "* **Learning**: Agentic AI systems can learn from experience and adapt to new situations, improving their performance over time.\n",
      "\n",
      "**Benefits of Agentic AI**\n",
      "\n",
      "The benefits of Agentic AI are numerous and significant, including:\n",
      "\n",
      "* **Improved decision-making and problem-solving**: Agentic AI systems can analyze complex data and make decisions in real-time, enabling them to respond to changing situations and solve complex problems.\n",
      "* **Enhanced autonomy and efficiency**: Agentic AI systems can operate independently, reducing the need for human intervention and increasing efficiency.\n",
      "* **Increased human-AI collaboration and interaction**: Agentic AI systems can interact with humans in more sophisticated ways, enabling new forms of collaboration and innovation.\n",
      "* **Potential applications**: Agentic AI has potential applications in areas such as healthcare, finance, education, and transportation, where autonomous systems can improve safety, efficiency, and decision-making.\n",
      "\n",
      "For example, Agentic AI can improve existing systems and processes in healthcare by enabling autonomous diagnosis and treatment, personalized medicine, and patient care. In finance, Agentic AI can improve risk management, portfolio optimization, and trading decisions. In education, Agentic AI can enable personalized learning, adaptive assessment, and intelligent tutoring.\n",
      "\n",
      "**Challenges and Limitations of Agentic AI**\n",
      "\n",
      "While Agentic AI holds tremendous promise, it also poses significant challenges and limitations, including:\n",
      "\n",
      "* **Ensuring safety and reliability**: Agentic AI systems must be designed to ensure safety and reliability, particularly in high-stakes applications such as healthcare and transportation.\n",
      "* **Addressing concerns around bias and accountability**: Agentic AI systems must be designed to avoid bias and ensure accountability, particularly in applications where decisions have significant consequences.\n",
      "* **Developing explainable and transparent Agentic AI systems**: Agentic AI systems must be designed to provide transparent and explainable decision-making, enabling humans to understand and trust their actions.\n",
      "* **Balancing human oversight and machine autonomy**: Agentic AI systems must be designed to balance human oversight and machine autonomy, ensuring that humans are involved in decision-making when necessary.\n",
      "\n",
      "Researchers and developers are addressing these challenges through various approaches, including:\n",
      "\n",
      "* **Designing safety-critical systems**: Agentic AI systems are being designed with safety and reliability in mind, using techniques such as redundancy, fault tolerance, and fail-safe defaults.\n",
      "* **Developing explainable AI**: Agentic AI systems are being designed to provide transparent and explainable decision-making, using techniques such as model interpretability and feature attribution.\n",
      "* **Implementing human-AI collaboration**: Agentic AI systems are being designed to collaborate with humans, enabling humans to provide oversight and guidance when necessary.\n",
      "\n",
      "**Future Applications of Agentic AI**\n",
      "\n",
      "The future applications of Agentic AI are vast and exciting, including:\n",
      "\n",
      "* **Intelligent robots and autonomous systems**: Agentic AI will enable the development of intelligent robots and autonomous systems that can interact with their environment and make decisions in real-time.\n",
      "* **Personalized medicine and healthcare**: Agentic AI will enable personalized medicine and healthcare, where autonomous systems can analyze patient data and provide tailored treatment recommendations.\n",
      "* **Smart cities and infrastructure**: Agentic AI will enable the development of smart cities and infrastructure, where autonomous systems can manage traffic flow, energy consumption, and waste management.\n",
      "* **Education and learning systems**: Agentic AI will enable personalized learning and adaptive assessment, where autonomous systems can provide tailored educational content and feedback.\n",
      "\n",
      "These applications will enable new forms of human-AI collaboration and innovation, where Agentic AI systems can assist humans in solving complex problems and improving human life.\n",
      "\n",
      "**Ethical Considerations and Implications**\n",
      "\n",
      "The development and deployment of Agentic AI raises significant ethical considerations and implications, including:\n",
      "\n",
      "* **Accountability and responsibility**: Who is accountable for the actions of Agentic AI systems, and how can we ensure that they are responsible and transparent?\n",
      "* **Transparency and explainability**: How can we ensure that Agentic AI systems provide transparent and explainable decision-making, enabling humans to understand and trust their actions?\n",
      "* **Bias and fairness**: How can we ensure that Agentic AI systems avoid bias and ensure fairness, particularly in applications where decisions have significant consequences?\n",
      "* **Human-AI relationships and potential job displacement**: How will Agentic AI systems impact human-AI relationships, and what are the potential consequences for job displacement and employment?\n",
      "\n",
      "Researchers, policymakers, and industry leaders are addressing these ethical concerns through various initiatives, including:\n",
      "\n",
      "* **Developing guidelines and regulations**: Guidelines and regulations are being developed to ensure that Agentic AI systems are designed and deployed responsibly.\n",
      "* **Implementing transparency and explainability**: Agentic AI systems are being designed to provide transparent and explainable decision-making, enabling humans to understand and trust their actions.\n",
      "* **Addressing bias and fairness**: Agentic AI systems are being designed to avoid bias and ensure fairness, particularly in applications where decisions have significant consequences.\n",
      "* **Fostering human-AI collaboration**: Agentic AI systems are being designed to collaborate with humans, enabling humans to provide oversight and guidance when necessary.\n",
      "\n",
      "**Conclusion**\n",
      "\n",
      "In conclusion, Agentic AI has the potential to revolutionize the field of Artificial Intelligence, enabling machines to make decisions, take actions, and interact with humans in more sophisticated ways. While there are challenges and limitations to Agentic AI, the benefits are significant, and the potential applications are vast and exciting. As researchers, developers, and policymakers, it is essential that we prioritize the development of Agentic AI and address its challenges and limitations, ensuring that this technology is designed and deployed responsibly and for the benefit of humanity. The future of AI is Agentic AI, and it is up to us to shape this future and ensure that it is one where humans and machines collaborate to solve complex problems and improve human life.\n"
     ]
    }
   ],
   "source": [
    "print(final_state[\"content\"])"
   ]
  },
  {
   "cell_type": "code",
   "execution_count": 27,
   "id": "f4dd7c5d",
   "metadata": {},
   "outputs": [
    {
     "name": "stdout",
     "output_type": "stream",
     "text": [
      "I'd be happy to provide a score for the blog post on \"The Future of Artificial Intelligence: Embracing Agentic AI\" based on the provided outline and content.\n",
      "\n",
      "**Score: 8.5/10**\n",
      "\n",
      "Here's a breakdown of the strengths and weaknesses of the blog post:\n",
      "\n",
      "**Strengths:**\n",
      "\n",
      "1. **Clear structure**: The blog post follows a logical and easy-to-follow structure, starting with an introduction to Agentic AI, its benefits, challenges, and future applications, and concluding with ethical considerations and implications.\n",
      "2. **Well-defined concepts**: The author provides a clear definition of Agentic AI and its key characteristics, making it easy for readers to understand the concept.\n",
      "3. **Examples and illustrations**: The blog post includes relevant examples and illustrations to help readers understand the benefits and applications of Agentic AI.\n",
      "4. **Comprehensive coverage**: The author covers a wide range of topics related to Agentic AI, including its benefits, challenges, future applications, and ethical considerations.\n",
      "5. **Engaging writing style**: The writing style is clear, concise, and engaging, making it easy for readers to follow and understand the content.\n",
      "\n",
      "**Weaknesses:**\n",
      "\n",
      "1. **Lack of technical depth**: While the blog post provides a good introduction to Agentic AI, it lacks technical depth and may not provide sufficient information for readers with a strong technical background.\n",
      "2. **Limited critical analysis**: The author presents a largely positive view of Agentic AI, without providing a critical analysis of its potential limitations and challenges.\n",
      "3. **Some sections feel repetitive**: A few sections, such as the introduction and conclusion, feel a bit repetitive and could be condensed to make the blog post more concise.\n",
      "4. **No concrete examples of implementation**: While the author provides examples of Agentic AI in action, there are no concrete examples of how it can be implemented in real-world scenarios.\n",
      "5. **No clear call to action**: The conclusion feels a bit vague, and there is no clear call to action for readers to engage with the topic further or explore Agentic AI in more depth.\n",
      "\n",
      "**Suggestions for improvement:**\n",
      "\n",
      "1. **Provide more technical depth**: Consider adding more technical details and examples to help readers with a strong technical background understand Agentic AI better.\n",
      "2. **Include critical analysis**: Provide a more balanced view of Agentic AI by including critical analysis of its potential limitations and challenges.\n",
      "3. **Condense repetitive sections**: Consider condensing the introduction and conclusion to make the blog post more concise and engaging.\n",
      "4. **Provide concrete examples of implementation**: Include concrete examples of how Agentic AI can be implemented in real-world scenarios to make the topic more tangible and relatable.\n",
      "5. **Add a clear call to action**: Consider adding a clear call to action at the end of the blog post, encouraging readers to engage with the topic further or explore Agentic AI in more depth.\n",
      "\n",
      "Overall, the blog post provides a solid introduction to Agentic AI and its potential applications, but could benefit from more technical depth, critical analysis, and concrete examples of implementation.\n"
     ]
    }
   ],
   "source": [
    "print(final_state[\"score\"])"
   ]
  }
 ],
 "metadata": {
  "kernelspec": {
   "display_name": "venv",
   "language": "python",
   "name": "python3"
  },
  "language_info": {
   "codemirror_mode": {
    "name": "ipython",
    "version": 3
   },
   "file_extension": ".py",
   "mimetype": "text/x-python",
   "name": "python",
   "nbconvert_exporter": "python",
   "pygments_lexer": "ipython3",
   "version": "3.10.9"
  }
 },
 "nbformat": 4,
 "nbformat_minor": 5
}
